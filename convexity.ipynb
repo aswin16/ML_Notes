{
 "cells": [
  {
   "cell_type": "markdown",
   "metadata": {},
   "source": [
    "# Convexity\n",
    "\n",
    "* Let $\\textbf{X}$ be a convex set in a vector space and let $f\\colon \\textbf{X}\\to\\mathbb{R}$ be a function. \n",
    "\n",
    "\n",
    "* $f$  is called convex, if:\n",
    " $\\forall  x_{1},x_{2}\\in \\textbf{X},\\forall t \\in [0,1]$ \n",
    "$$f(t x_{1}+(1-t)x_{2}) \\leq t f(x_{1})+(1-t)f(x_{2})$$ holds.\n",
    "\n",
    "* $f $ is called strictly convex if:\n",
    "\n",
    " $\\forall  x_{1}\\neq x_{2}\\in \\textbf{X},\\forall t \\in (0,1)$ \n",
    "$$f(t x_{1}+(1-t)x_{2}) < t f(x_{1})+(1-t)f(x_{2})$$ holds.\n",
    "\n",
    "\n",
    "* if $f$ is convex $- f$ is concave.\n",
    "\n",
    "\n",
    "\n",
    "<img src=\"convex.png\">\n",
    "\n",
    "\n",
    "## Convexity of single variable functions\n",
    "\n",
    "* Let $f$ be a single variable function $f\\colon\\mathbb{R}\\to \\mathbb{R}$ . $f$ is convex if $\\frac{\\partial^{2} f}{\\partial  x^{2}} \\geq0, \\forall x\\in \\mathbb{R}$\n",
    "\n",
    "\n",
    "## Convexity of Multivariable functions\n",
    "\n",
    "* $f\\colon \\mathbb{R}^{d}\\to \\mathbb{R}$\n",
    "* $f\\in \\mathbb{R}$,$r\\in\\mathbb{R}^d$,  $\\frac{df}{dr}$ is a d-dimensional vector\n",
    "* $\\frac{d^{2}f}{dr^{2}}$ is a $d$x$d$ matrix\n",
    "* Function **$f$** is **convex** if second derivative matix is always **positive Semidefinite** <br>\n",
    "\n",
    "* $\\nabla f(z)=\\begin{pmatrix}\\frac{df}{dz_{1}}\\\\ \\vdots \\\\ \\frac{df}{dz_{d}}\\end{pmatrix}$ <br>\n",
    "\n",
    "\n",
    "<br> * The second derivative matrix is $d$x$d$ and is called the Hessian $H(z)$\n",
    "* The matrix elements  $H_{jk}=\\frac{\\partial^{2} f}{\\partial z_{j}\\partial z_{k}}$\n",
    "\n",
    "$$ \\begin{bmatrix} \n",
    "\\frac{\\partial^{2} f}{\\partial z_{1}^{2}} & \\frac{\\partial^{2} f}{\\partial z_{1}\\partial z_{2}} &\\frac{\\partial^{2} f}{\\partial z_{1}\\partial z_{3}} & \\cdot \\cdot \\cdot  \\\\\n",
    " \\frac{\\partial^{2} f}{\\partial z_{2}\\partial z_{1}}& \\frac{\\partial^{2} f}{\\partial z_{2}^{2}} & \\cdot \\cdot \\cdot & \\cdot \\cdot \\cdot \\\\\n",
    " \\vdots &   \\vdots     &  \\\\\n",
    " \\vdots &   \\vdots     & \n",
    "  \\end{bmatrix} $$\n"
   ]
  },
  {
   "cell_type": "markdown",
   "metadata": {},
   "source": [
    "## Positive Semidefinit Matrices\n",
    "\n",
    "* A square matrix $M$is said to be positive  when the quadratic function defined by it,i.e is $X^{T}MX$ is always positive\n",
    "* Every square matrix M encodes a quadratic function,$$X^{T}MX=\\sum_{i,j=1}^{d}m_{ij}x_{i}x_{j}$$\n",
    "* A matrix M is positive semidefinite: <ob>\n",
    "\n",
    "\n",
    "* If it is symmetric\n",
    "* If $X^{T}MX \\geq 0,$ $\\forall$ $x$\n",
    "\n",
    "* if M is PSD,then $c*M$  $\\forall c \\geq 0 \\in \\mathbb{R}$ is PSD\n",
    "* if M and N are PSD ,then $M+N$ is also a PSD\n",
    "\n",
    "\n"
   ]
  },
  {
   "cell_type": "markdown",
   "metadata": {},
   "source": [
    "## Checking if a matrix is PSD \n",
    "\n",
    "* A matrix  $M$ is PSD iff it can be written as $M=UU^{T}$ for some matrix $U\\in \\mathbb{R}^{r*d}$\n",
    "* M is a square matrix of dimension $r$x$r$\n",
    "* M is symmetric $(UU^{T})^{T}=UU^{T}$\n",
    " $$X^{T}MX=X^{T}UU^{T}X$$  $$=(X^{T}U)(U^{T}X)$$  $$=(U^{T}X)^{T}(U^{T}X)$$ $$=\\vert\\vert U^{T}X\\vert\\vert \\geq 0$$\n",
    " \n",
    " "
   ]
  },
  {
   "cell_type": "markdown",
   "metadata": {},
   "source": [
    "## Least Squares Regression\n",
    "\n",
    "* data points $(x^{i},y^{i})\\in \\mathbb{R^{d}*R}$\n",
    "* Loss Function $L(w)=\\sum_{i=1}^{n}(y^{(i)}-(w\\cdot x^{(i)}))^{2}$\n",
    "$$\\frac{dL}{dw_{j}}=\\sum_{i}(y^{(i)}-(w_{1}x^{(i)}+...+w_{d}x^{(d)}))^{2}$$\n",
    "$$=-2\\sum_{i}(y^{(i)}-(w_{1}x^{(i)}+...+w_{d}x^{(d)}))x_{j}^{(i)}$$\n",
    "\n",
    "   <br> $$\\frac{\\partial^{2}L}{\\partial w_{k}\\partial w_{j}}=-2\\sum_{i}-x_{k}^{(i)}x_{j}^{(i)}$$\n",
    "   $$\\frac{\\partial^{2}L}{\\partial w_{k}\\partial w_{j}}=2\\sum_{i}x_{j}^{(i)}x_{k}^{(i)}$$\n",
    "$$ H(w)= 2 \\sum_{i=1}^{n}x^{(i)}(x^{(i)})^{T} $$"
   ]
  },
  {
   "cell_type": "code",
   "execution_count": null,
   "metadata": {},
   "outputs": [],
   "source": []
  }
 ],
 "metadata": {
  "kernelspec": {
   "display_name": "Python 3",
   "language": "python",
   "name": "python3"
  },
  "language_info": {
   "codemirror_mode": {
    "name": "ipython",
    "version": 3
   },
   "file_extension": ".py",
   "mimetype": "text/x-python",
   "name": "python",
   "nbconvert_exporter": "python",
   "pygments_lexer": "ipython3",
   "version": "3.6.9"
  }
 },
 "nbformat": 4,
 "nbformat_minor": 2
}
