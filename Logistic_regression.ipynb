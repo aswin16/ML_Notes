{
 "cells": [
  {
   "cell_type": "markdown",
   "metadata": {},
   "source": [
    "# Classification and Logistic Regression"
   ]
  },
  {
   "cell_type": "markdown",
   "metadata": {},
   "source": [
    "* Unlike the **Regression Problem** ,here the values of $y$,that we want to predict  take only  a small number of discrete values \n",
    "* ** binary classification problem **$\\colon y$ can take only two values $\\{0,1\\}$\n",
    "* 0 : negative class,1: positive class\n",
    "* For given $(x^{(i)}$, $y^{(i)})$ is called the label for the data point\n",
    "\n",
    "* The linear function used earlier for regression is not a logical candidate for the task as the $y'$s take only discrete values.\n",
    "\n"
   ]
  },
  {
   "cell_type": "markdown",
   "metadata": {},
   "source": [
    "## Logistic Regression\n",
    "\n",
    "* Here we choose our hypotheses $h_{\\theta}(x)$ so as to predict $y\\in \\{0,1\\}$\n",
    "\n",
    "$$h_{\\theta}(x)=g(\\theta^{T}x)=\\frac{1}{1+e^{-\\theta^{T}x}}$$"
   ]
  },
  {
   "cell_type": "code",
   "execution_count": 2,
   "metadata": {},
   "outputs": [
    {
     "data": {
      "image/png": "[encoded data removed]",
      "text/plain": [
       "<Figure size 432x288 with 1 Axes>"
      ]
     },
     "metadata": {},
     "output_type": "display_data"
    }
   ],
   "source": [
    "import numpy as np\n",
    "import matplotlib.pyplot as plt\n",
    "\n",
    "z=np.linspace(-5,5,100)\n",
    "y= 1/(1+np.exp(-z)) #logistic/sigmoid function\n",
    "\n",
    "plt.plot(z,y)\n",
    "plt.show()"
   ]
  },
  {
   "cell_type": "markdown",
   "metadata": {},
   "source": [
    "* $g(z)\\to1$ as $z\\to \\infty$ and  $g(z)\\to0$ as $z\\to -\\infty$ and "
   ]
  },
  {
   "cell_type": "markdown",
   "metadata": {},
   "source": [
    "* Taking $x_{0}=1$.so that $\\theta^{T}x=\\theta_{0}+\\sum_{j=1}^{n}\\theta_{j}x_{j}$"
   ]
  },
  {
   "cell_type": "markdown",
   "metadata": {},
   "source": [
    "# Finding the parameter $\\theta$"
   ]
  },
  {
   "cell_type": "markdown",
   "metadata": {},
   "source": [
    "* Assuming  $$P(y=1\\vert x; \\theta)=h_{\\theta}(x)$$\n",
    "\n",
    "$$P(y=0\\vert x; \\theta)=1-h_{\\theta}(x)$$\n",
    " * This is euivalent to $$p(y\\vert x; \\theta)=(h_{\\theta}(x))^{y}(1-h_{\\theta}(x))^{1-y}$$\n",
    "* Assuming that the $m$ training examples were generated independently, we can then write down the likelihood of the parameters as\n",
    "\n",
    "$$L(\\theta)=p(\\overrightarrow{y} \\vert X;\\theta)$$\n",
    "$$=\\prod_{i=1}^{m}p(y^{(i)}\\vert x^{(i)};\\theta)$$\n",
    "$$=\\prod_{i=1}^{m}(h_{\\theta}(x^{(i(}))^{y^{(i)}}(1-h_{\\theta}(x^{(i)}))^{1-y^{(i)}}$$\n",
    "\n",
    "<br>\n",
    "$$l(\\theta)=\\log L(\\theta)$$\n",
    "$$l(\\theta)=\\sum_{i=1}^{m}y^{(i)}\\log h(x^{(i)})+(1-y^{(i)})\\log(1-h(x^{^{(i)}}))$$\n",
    "\n",
    "### maximizing the likelihood\n",
    "\n",
    "* The update rule$\\theta\\colon = \\theta+\\alpha \\nabla_{\\theta}l(\\theta)$\n",
    "\n",
    "* For  a single training example $$\\frac{\\partial}{\\partial \\theta_{j}}l(\\theta)=(y-h_{\\theta}(x))x_{j}$$\n",
    "\n",
    "### The gradient ascent\n",
    "\n",
    "* $\\theta$ at $t^{th}$ iteration or at time $t$ : $\\theta_{t}$\n",
    "\n",
    "<br>\n",
    "\n",
    "* Set $\\theta_{0}=0$\n",
    "* For $t=0,1,2,..$ until convergence\n",
    "   * $\\theta_{t+1}=\\theta_{t}+\\alpha \\sum_{i=1}^{n}(y^{(i)}-h_{\\theta}(x^{(i)}))x_{j}^{(i)}$\n",
    "   \n",
    "   \n",
    "   \n",
    "   ### Stochastic Garadient Ascent\n",
    " \n",
    "* $\\theta$ at $t^{th}$ iteration or at time $t$ : $\\theta_{t}$\n",
    "\n",
    "<br>\n",
    "\n",
    "* Set $\\theta_{0}=0$\n",
    "* For $=0,1,2,...,n$ until convergence\n",
    "   * $\\theta_{t+1}=\\theta_{t}+\\alpha (y^{(i)}-h_{\\theta}(x^{(i)}))x_{j}^{(i)}$\n",
    "   "
   ]
  },
  {
   "cell_type": "code",
   "execution_count": 13,
   "metadata": {},
   "outputs": [
    {
     "name": "stderr",
     "output_type": "stream",
     "text": [
      "/usr/lib/python3/dist-packages/ipykernel_launcher.py:9: RuntimeWarning: invalid value encountered in log\n",
      "  if __name__ == '__main__':\n"
     ]
    },
    {
     "data": {
      "image/png": "[encoded data removed]",
      "text/plain": [
       "<Figure size 432x288 with 1 Axes>"
      ]
     },
     "metadata": {},
     "output_type": "display_data"
    }
   ],
   "source": [
    "import numpy as np\n",
    "import matplotlib.pyplot as plt\n",
    "x=np.linspace(-10,10,1000000)\n",
    "def hx(x):\n",
    "    return 1/(1+np.exp(-x))\n",
    "\n",
    "\n",
    "def L(x):\n",
    "    return -np.log(x)-np.log(1-x)\n",
    "\n",
    "plt.plot(x,L(x))\n",
    "plt.show()"
   ]
  },
  {
   "cell_type": "code",
   "execution_count": null,
   "metadata": {},
   "outputs": [],
   "source": []
  }
 ],
 "metadata": {
  "kernelspec": {
   "display_name": "Python 3",
   "language": "python",
   "name": "python3"
  },
  "language_info": {
   "codemirror_mode": {
    "name": "ipython",
    "version": 3
   },
   "file_extension": ".py",
   "mimetype": "text/x-python",
   "name": "python",
   "nbconvert_exporter": "python",
   "pygments_lexer": "ipython3",
   "version": "3.6.9"
  }
 },
 "nbformat": 4,
 "nbformat_minor": 2
}
