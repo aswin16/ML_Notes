{
 "cells": [
  {
   "cell_type": "markdown",
   "metadata": {},
   "source": [
    "# Clustering with mixtures of Gaussians"
   ]
  },
  {
   "cell_type": "markdown",
   "metadata": {},
   "source": [
    "- Given: $x_{1}$, $x_{2}$, ... ,$x_{n}$ $\\in \\mathbb R^{d}$\n",
    "- We need to clusterize the data\n",
    "\n",
    "- Each of the k-clusters is defined by\n",
    "   - A gaussian distribution $P_{j}=N(\\mu_{j},\\Sigma_{j})$ , $\\mu_{j} \\in \\mathbb R^{d}$ , $\\Sigma_{j} \\in \\mathbb R^{dxd}$ \n",
    "   - A mixing weight $\\pi_{j}$\n",
    "   \n",
    "- $Pr(x)=\\sum_{j}Pr(cluster)Pr(x|cluster -j)$\n",
    "- Overall distribution over $\\mathbb R^{d}$ - is mixture of Gaussian i.e \n",
    "   -  $Pr(x)=\\pi_{1}P_{1}(x)+\\pi_{2}P_{2}(x)+...+\\pi_{k}P_{k}(x)$\n"
   ]
  },
  {
   "cell_type": "markdown",
   "metadata": {},
   "source": [
    "## The Clustering Task\n",
    "\n",
    "- Given: $x_{1}$, $x_{2}$, ... ,$x_{n}$ $\\in \\mathbb R^{d}$\n",
    "- For any mixture model $\\pi_{1}$, $\\pi_{2}$,...,$\\pi_{k}$ and $P_{1}=N(\\mu_{1},\\Sigma_{1})$,...,$P_{k}=N(\\mu_{k},\\Sigma_{k})$\n",
    "\n",
    "$\\mathrm{Pr}(\\mathrm{data} \\vert \\sum_{i=1}^{k}\\pi_{i} \\mathrm{P_{i}})=\\underset{i}\\Pi$ $ \\mathrm{Pr(x_{i}})$ $ =\\underset{i=1 }   \\Pi \\overset{n}  (Pr(x)=\\pi_{1}P_{1}(x)+\\pi_{2}P_{2}(x)+...+\\pi_{k}P_{k}(x))=$ $\\underset{i=1}\\Pi $  $\\underset{j=1} \\sum  \\pi_{j}\\mathrm{P_{j(x_{i})}} $\n",
    "\n",
    "\n",
    "$\\mathrm{Pr}(\\mathrm{data} \\vert \\sum_{i=1}^{k}\\pi_{i} \\mathrm{P_{i}})$\n",
    "$=\\prod_{i=1}^{n}\\{\\sum_{j=1}^{k}\\frac{\\pi_{j}}{(2\\pi)^{d/2} \\vert \\Sigma_{j}\\vert^{\\frac{1}{2}}  } \n",
    "\\exp (\\frac{-1}{2} (x_{i}-\\mu_{j})^{T}\\Sigma_{j}^{-1}(x_{i}-\\mu_{j}))\\}$\n",
    "\n",
    "- This is the likelihhod of the data under the model $\\pi_{1}$, $\\pi_{2}$,...,$\\pi_{k}$ and $P_{1}=N(\\mu_{1},\\Sigma_{1})$,...,$P_{k}=N(\\mu_{k},\\Sigma_{k})$\n",
    "\n",
    "\n",
    "Now the task is to find the maximum likelihood mixture of gaussians i.e to find the parameters $\\{\\pi_{j},\\mu_{j},\\Sigma_{j}:j=1,...,k\\}$ that maximizes the function\n",
    "\n",
    "- maximizing $\\mathrm{Pr}(\\mathrm{X} \\vert \\sum_{i=1}^{k}\\pi_{i} \\mathrm{P_{i}})$  is same as maximizing log of the same\n",
    "\n",
    "- maximizing $\\log \\mathrm{Pr}(\\mathrm{X} \\vert \\sum_{i=1}^{k}\\pi_{i} \\mathrm{P_{i}})$ is equivalent to minimizing neagative $\\log \\mathrm{Pr}(\\mathrm{X} \\vert \\sum_{i=1}^{k}\\pi_{i} \\mathrm{P_{i}})$\n",
    "\n",
    "\n",
    "- minimizing the negative log-likelihood\n",
    "- $\\mathrm{L}(\\{\\pi_{j},\\mu_{j},\\Sigma_{j} \\})=\\sum_{i=1}^{n} \\ln \\{\\sum_{j=1}^{k}\\frac{\\pi_{j}}{(2\\pi)^{d/2} \\vert \\Sigma_{j}\\vert^{\\frac{1}{2}}  } \n",
    "\\exp (\\frac{-1}{2} (x_{i}-\\mu_{j})^{T}\\Sigma_{j}^{-1}(x_{i}-\\mu_{j}))\\} $\n",
    "\n",
    "- L is not a convex function,have multiple local minima.Finding global minima is a NP hard problem"
   ]
  },
  {
   "cell_type": "markdown",
   "metadata": {},
   "source": [
    "# Expectation Maximization (EM) Algorithm"
   ]
  },
  {
   "cell_type": "markdown",
   "metadata": {},
   "source": [
    "- Initialize $\\pi_{1}$, $\\pi_{2}$,...,$\\pi_{k}$ and $P_{1}=N(\\mu_{1},\\Sigma_{1})$,...,$P_{k}=N(\\mu_{k},\\Sigma_{k})$\n",
    "\n",
    "- Repeat until convergence:\n",
    "  - Assign each point $x_{i}$ fractionally between k-clusters \n",
    "     -  $\\mathrm{w_{ij}} = \\mathrm{Pr}(\\mathrm{cluster,j} \\vert x_{i})=\\frac {\\pi_{j}P_{j}(x_{i})} {\\sum_{l}P_{l}(x_{i})}$\n",
    "   \n",
    "  -  Update mixing weights,means,covariances\n",
    "      -  $\\pi_{j}=\\frac{1}{n}\\sum_{i=1}^{n}w_{ij}$\n",
    "      -  $\\mu_{j}=\\frac{1}{n\\pi_{j}}\\sum_{i=1}^{n}w_{ij}x_{i}$\n",
    "      -  $\\Sigma_{j}=\\frac{1}{n\\pi_{j}} \\sum_{i=1}^{n}w_{ij}(x_{i}-\\mu_{j})(x_{i}-\\mu_{j})^{T}$\n",
    "      "
   ]
  },
  {
   "cell_type": "code",
   "execution_count": null,
   "metadata": {},
   "outputs": [],
   "source": []
  }
 ],
 "metadata": {
  "kernelspec": {
   "display_name": "Python 3",
   "language": "python",
   "name": "python3"
  },
  "language_info": {
   "codemirror_mode": {
    "name": "ipython",
    "version": 3
   },
   "file_extension": ".py",
   "mimetype": "text/x-python",
   "name": "python",
   "nbconvert_exporter": "python",
   "pygments_lexer": "ipython3",
   "version": "3.6.9"
  }
 },
 "nbformat": 4,
 "nbformat_minor": 2
}
