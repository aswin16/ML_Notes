{
 "cells": [
  {
   "cell_type": "markdown",
   "metadata": {},
   "source": [
    "# Principal Component Analysis"
   ]
  },
  {
   "cell_type": "markdown",
   "metadata": {},
   "source": [
    "- Principal component analysis is a method for dimensionality reduction\n",
    "- why reduce dimension?\n",
    "   - It reduces storage and computation time.\n",
    "   - High-dimensional data often has a lot of redundancy.\n",
    "   - Remove noisy or irrelevant features."
   ]
  },
  {
   "cell_type": "markdown",
   "metadata": {},
   "source": [
    "If our dataset is of d dimnesion i.e $x\\in \\mathbb{R}^{d}$, which direction/component we can avoid without loosing much of the information.It turns out that the direction in which the variance is the lowest has the least information hence we can purge these direction."
   ]
  },
  {
   "cell_type": "markdown",
   "metadata": {},
   "source": [
    "<img src=\"pca1.png\">"
   ]
  },
  {
   "cell_type": "markdown",
   "metadata": {},
   "source": [
    "The red line turns out to be the direction of maximum variance.\n",
    "The problem now has reduced to finding  the direction in which the projected data has maximum variance."
   ]
  },
  {
   "cell_type": "markdown",
   "metadata": {},
   "source": [
    "### Projection\n",
    "\n",
    "\n",
    "- projection of $x\\in \\mathbb{R}^{d}$ in the direction of $u\\in \\mathbb{R}^{d},\\parallel u \\parallel =1$ is $x.u=x^{T}u=\\sum_{i=1}^{d}  x_{i}u_{i}$.\n",
    "\n",
    "- $x^{T}u$ is the distance from the origin to the projected point in u direction\n",
    "\n",
    "\n",
    "- Suppose we need to map our data $x\\in\\mathbb{R}^{d}$into just one dimension, $x \\mapsto x.u$\n",
    "- $\\Sigma$ is the covariance matrix of X.\n",
    "- The variance of $X.u$ is $u^{T}\\Sigma u$\n",
    "\n"
   ]
  },
  {
   "cell_type": "markdown",
   "metadata": {},
   "source": [
    "- Data $\\{x^{(i)}:i=1,...,N\\}$, $x^{i}\\in \\mathbb{R}^{d}$\n",
    "\n",
    "- the empirical covariance matrix is a $\\mathrm{d}\\times\\mathrm{d}$  matrix :\n",
    "\n",
    "$$\\Sigma=\\frac{1}{N}\\sum_{i=1}^{N}(x^{(i)}-\\bar{x})(x^{(i)}-\\bar{x})^{T}$$\n",
    "- In PCA, we are interested in finding projections ̃data points $x^{(i)}$ thatare as similar to the original data points as possible, but which have a significantly lower intrinsic dimensionality.\n",
    "\n",
    "- If we assume that our data set $X=\\{x^{(i)}:i=1,...,N\\}$, $x^{i}\\in \\mathbb{R}^{d}$, with mean 0 the emperical covariance matrix will be :\n",
    "$$ \\Sigma=\\frac{1}{N}\\sum_{i=1}^{N}x^{(i)}{x^{(i)}}^{T} $$"
   ]
  },
  {
   "cell_type": "markdown",
   "metadata": {},
   "source": [
    "- to maximize the variance of the projections, we would like to choose a unit-length $u$ so as to maximize\n",
    "\n",
    "$$\\frac{1}{N}\\sum_{i=1}^{N}({x^{(i)}}^{T}u)^{2}=\\frac{1}{N}\\sum_{i=1}^{N}u^{T}x^{(i)}{x^{(i)}}^Tu=u^{T}\\{\\frac{1}{N}\\sum_{i=1}^{N}x^{(i)}{x^{(i)}}^T\\}u$$\n",
    "\n",
    "- maximizing this subject to u being of unit length,gives the principal eigenvector of \n",
    "$\\frac{1}{N}\\sum_{i=1}^{N}x^{(i)}{x^{(i)}}^T$,which the empirical covariance matrix of the data,assuming zero mean"
   ]
  },
  {
   "cell_type": "markdown",
   "metadata": {},
   "source": [
    "## Projection onto multiple directions\n",
    "- projecting $x\\in \\mathbb{R}^{d}$ to a k-dimensional subspace  defined by vectors  $u_{1},u_{2},...,u_{k}$ $\\in R^{d}$\n",
    "- U is a $d\\times k$ dimensional matrix\n",
    "$$(x.u_{1},x.u_{2},...,x.u_{k}) = \n",
    "\\begin{bmatrix} \n",
    "     & \\leftarrow u_{1} \\rightarrow &  \\\\\n",
    "     & \\vdots & \\\\\n",
    "     &   \\leftarrow u_{k} \\rightarrow   &  \n",
    " \\end{bmatrix}   .  \\begin{bmatrix} \n",
    "               & \\uparrow &  \\\\\n",
    "               & x & \\\\\n",
    "               &   \\downarrow  &  \n",
    "        \\end{bmatrix} $$                 \n",
    "        \n",
    "        \n",
    "        \n",
    "        "
   ]
  },
  {
   "cell_type": "markdown",
   "metadata": {},
   "source": [
    "\n"
   ]
  },
  {
   "cell_type": "code",
   "execution_count": null,
   "metadata": {},
   "outputs": [],
   "source": []
  }
 ],
 "metadata": {
  "kernelspec": {
   "display_name": "Python 3",
   "language": "python",
   "name": "python3"
  },
  "language_info": {
   "codemirror_mode": {
    "name": "ipython",
    "version": 3
   },
   "file_extension": ".py",
   "mimetype": "text/x-python",
   "name": "python",
   "nbconvert_exporter": "python",
   "pygments_lexer": "ipython3",
   "version": "3.6.9"
  }
 },
 "nbformat": 4,
 "nbformat_minor": 2
}
