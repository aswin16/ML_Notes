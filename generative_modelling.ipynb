{
 "cells": [
  {
   "cell_type": "markdown",
   "metadata": {},
   "source": [
    "#  The Genarative Approach to Classification"
   ]
  },
  {
   "cell_type": "markdown",
   "metadata": {},
   "source": [
    "* ** The Learning Process - Fit a probability distribution to each class individually**\n",
    "\n",
    "* ** To classify a new point - Which of the distribution was it most likely to have come from?**"
   ]
  },
  {
   "cell_type": "markdown",
   "metadata": {},
   "source": [
    "# Genearative Models"
   ]
  },
  {
   "cell_type": "markdown",
   "metadata": {},
   "source": [
    "**Example**\n",
    "\n",
    "* Data Space *X* = R\n",
    "* Classes/labels *Y* ={1,2,3}\n",
    "<img src=\"1.png\">"
   ]
  },
  {
   "cell_type": "markdown",
   "metadata": {},
   "source": [
    "<ol> For each class j,we have:\n",
    "* The probability of that class, $\\pi_{j}=Pr(y=j)$\n",
    "* The distribution of data in that class $P_{j}(x)$ \n",
    "\n"
   ]
  },
  {
   "cell_type": "markdown",
   "metadata": {},
   "source": [
    "* The Overall joint distribution is: $Pr(x,y)=Pr(y)Pr(x\\vert y)=\\pi_{y}P_{y}(x)$\n",
    "\n",
    "* To classify a new x: pick the label y with largest $Pr(x,y)$"
   ]
  },
  {
   "cell_type": "markdown",
   "metadata": {},
   "source": [
    "# Two Dimensional Genearative Modelling with Bivariate Gaussian\n",
    "\n",
    "* Distribution over random varibales $x_{1}$ and $x_{2}$ ,$(x_{1} ,  x_{2})\\in R^{2}$\n",
    "\n",
    "* Mean $(\\mu_{1},\\mu _{2}) \\in R^{2}$,  $ \\mu_{1}=E(x_{1})$,  $\\mu_{2}=E(x_{2})$\n",
    "\n",
    "* covarince of two random variables $x_{1},x_{2}$ is : $cov(x_{1},x_{2})=E(x_{1}x_{2})-E(x_{1})E(x_{2})$\n",
    "\n",
    "* Cavariance Matrix $$ \\sum=\\left({\\begin{array}{cc}  \\sum_{11}&\\sum_{12}\\\\\\sum_{21}&\\sum_{22}  \\end{array}}\\right)$$, \n",
    "where $\\sum_{11}=Var(x_{1})$, $\\sum_{22}=Var(x_{2})$, $\\sum_{21}=\\sum_{12}=cov(x_{1},x_{2})$\n",
    "\n",
    "*  The density $P(x_{1},x_{2})$ is given by,\n",
    " $$P(x_{1},x_{2})=\\frac{1}{2\\pi \\vert \\sum \\vert ^{\\frac{1}{2}}} \\exp[-\\frac{1}{2} \\left({\\begin{array}{cc}{x_{1}-\\mu_{1}}\\\\\\ {x_{1}-\\mu_{1}}\\end{array}}\\right) \\sum^{-1} \\left({\\begin{array}{cc}{x_{1}-\\mu_{1}}\\\\\\ {x_{1}-\\mu_{1}}\\end{array}}\\right)]$$\n",
    "\t\n",
    " * Density is highest at the mean $(\\mu_{1},\\mu_{2})$ and falls off in a ellipsoidal contours.The shape of the ellipsoid is determined by the covariance matrix\n",
    "\t\t"
   ]
  },
  {
   "cell_type": "markdown",
   "metadata": {},
   "source": []
  },
  {
   "cell_type": "code",
   "execution_count": null,
   "metadata": {},
   "outputs": [],
   "source": []
  }
 ],
 "metadata": {
  "kernelspec": {
   "display_name": "Python 3",
   "language": "python",
   "name": "python3"
  },
  "language_info": {
   "codemirror_mode": {
    "name": "ipython",
    "version": 3
   },
   "file_extension": ".py",
   "mimetype": "text/x-python",
   "name": "python",
   "nbconvert_exporter": "python",
   "pygments_lexer": "ipython3",
   "version": "3.6.9"
  }
 },
 "nbformat": 4,
 "nbformat_minor": 2
}
