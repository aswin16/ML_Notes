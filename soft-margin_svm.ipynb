{
 "cells": [
  {
   "cell_type": "markdown",
   "metadata": {},
   "source": [
    "# Support Vector Machines"
   ]
  },
  {
   "cell_type": "markdown",
   "metadata": {},
   "source": [
    "For a data set which could be classified with a linear decision boundary,the problem of finding the maximum margin hyperplane is equivalent to  $$ \\min_{w,b}  W^{T}W $$\n",
    "$$ \\forall i, y_{i}(W^{T}x_{i}+b)\\geq 1$$ \n",
    "This is a convex optimization problem\n",
    "- Convex objective function $ W^{T}W$, \n",
    "- Linear Constraint  $y_{i}(W^{T}x_{i}+b)\\geq 1$"
   ]
  },
  {
   "cell_type": "markdown",
   "metadata": {},
   "source": [
    "# Soft margin SVM\n",
    "\n",
    "- When the data set is linearly non-separable,the above minimization cannot be done because the linear constraint  is violated.\n",
    "- Even if some data points are on the wrong side of the margin(violation of constrain),we would like to have a    maximum margin hyper plane to classify the test data. \n",
    "\n",
    "- This is done by relaxing the constrain. \n",
    "- Instead of $y_{i}(W^{T}x_{i}+b)\\geq 1$ ,we add a slack variable $ \\xi$ such that the new constrain is \n",
    "     $y_{i}(W^{T}x_{i}+b)\\geq 1-\\xi_{i}$\n",
    "- By choosing appropriate $\\xi$ we can ensure thatthe linear constrain holds\n",
    "\n",
    "<img src=\"svm.png\">"
   ]
  },
  {
   "cell_type": "markdown",
   "metadata": {},
   "source": [
    "Even though we have allowed  violation in original contrain at some points by allowing slack, to obtain a maximum margin hyperplane(decision boundary),It's not desirable to have large slacks(i.e w,b and such that many points are misclassified in the training set).We need to have a balance between the quantity of slack allowed ($\\sum \\xi_{i}$) and width of the margin to be found.\n",
    "\n",
    "So the problem becomes\n",
    "\n",
    "- Given data $(x^{(i)},y^{(i)})\\in \\mathbb R^{d} \\star \\{-1,1\\}$\n",
    "\n",
    "$$ \\min_{w\\in\\mathbb R^{d},b\\in \\mathbb R,\\xi \\in \\mathbb R}  W^{T}W + c \\sum_{i=1}^{n} \\xi_{i}$$\n",
    "$$ s.t.:\\forall i, y_{i}(W^{T}x_{i}+b)\\geq 1-\\xi_{i}$$ \n",
    "\n",
    "\n",
    "- $c$ decides how much slack we can use.We use use notion of cost function here,we are adding a term to cost function which we are supposed to minimize,i.e if $c$ is higher that means we are penalizing to use slack where  if $c$ is small we can have bigger slack.\n",
    "\n",
    "- We have to minimize $w^{T}w$ for a large margin.\n",
    "- we have to minimize total slack $\\sum \\xi_{i}$ as it's not better to have so many constrains violated "
   ]
  },
  {
   "cell_type": "code",
   "execution_count": null,
   "metadata": {},
   "outputs": [],
   "source": []
  }
 ],
 "metadata": {
  "kernelspec": {
   "display_name": "Python 3",
   "language": "python",
   "name": "python3"
  },
  "language_info": {
   "codemirror_mode": {
    "name": "ipython",
    "version": 3
   },
   "file_extension": ".py",
   "mimetype": "text/x-python",
   "name": "python",
   "nbconvert_exporter": "python",
   "pygments_lexer": "ipython3",
   "version": "3.6.9"
  }
 },
 "nbformat": 4,
 "nbformat_minor": 2
}
